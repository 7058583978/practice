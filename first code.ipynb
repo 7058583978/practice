{
 "cells": [
  {
   "cell_type": "code",
   "execution_count": 21,
   "id": "1e888bd7-c542-4be7-a8a0-333a7de322fc",
   "metadata": {},
   "outputs": [
    {
     "name": "stdin",
     "output_type": "stream",
     "text": [
      "enter your childs grade B\n"
     ]
    },
    {
     "name": "stdout",
     "output_type": "stream",
     "text": [
      "great you have got B grade work hard next time\n"
     ]
    }
   ],
   "source": [
    "grade = str(input('enter your childs grade'))\n",
    "if grade == 'A' :\n",
    "    print('excellent job')\n",
    "elif grade == 'B' :\n",
    "    print('great you have got B grade work hard next time')\n",
    "elif grade == 'C' :\n",
    "    print('better luck next time')\n",
    "else :\n",
    "    print('sad you coudnt make it')\n",
    "        "
   ]
  },
  {
   "cell_type": "code",
   "execution_count": 28,
   "id": "ee605471-e696-44b4-84b5-ac6f782cdb31",
   "metadata": {},
   "outputs": [
    {
     "name": "stdin",
     "output_type": "stream",
     "text": [
      "enter your price 4000\n"
     ]
    },
    {
     "name": "stdout",
     "output_type": "stream",
     "text": [
      "lets go on another shop\n"
     ]
    }
   ],
   "source": [
    "price = int(input('enter your price'))\n",
    "if price > 10000 :\n",
    "    print('this is too much')\n",
    "elif price >9000 and price <10000 :\n",
    "        print('thoda our kum kariye')\n",
    "elif price > 7000 and price < 9000 :\n",
    "        print ('i will think upon that')\n",
    "if price > 1000 and price < 2000 :\n",
    "        print ('i am intrested now')\n",
    "elif price > 2000 and price < 4000 :\n",
    "        print ('i dont have that much money')\n",
    "else :\n",
    "               print('lets go on another shop')\n",
    " "
   ]
  },
  {
   "cell_type": "code",
   "execution_count": null,
   "id": "5fe08f1b-b042-409d-95d6-fec80bf34621",
   "metadata": {},
   "outputs": [],
   "source": []
  }
 ],
 "metadata": {
  "kernelspec": {
   "display_name": "Python 3 (ipykernel)",
   "language": "python",
   "name": "python3"
  },
  "language_info": {
   "codemirror_mode": {
    "name": "ipython",
    "version": 3
   },
   "file_extension": ".py",
   "mimetype": "text/x-python",
   "name": "python",
   "nbconvert_exporter": "python",
   "pygments_lexer": "ipython3",
   "version": "3.10.8"
  }
 },
 "nbformat": 4,
 "nbformat_minor": 5
}
